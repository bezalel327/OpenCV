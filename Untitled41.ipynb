{
  "cells": [
    {
      "cell_type": "code",
      "execution_count": null,
      "metadata": {
        "colab": {
          "background_save": true,
          "base_uri": "https://localhost:8080/",
          "height": 1000
        },
        "id": "2qXBxosIqYI5",
        "outputId": "41a31968-e7ac-4644-8dbe-6b0c3477de3b"
      },
      "outputs": [],
      "source": [
        "from google.colab.patches import cv2_imshow\n",
        "import cv2\n",
        "image=cv2.imread(\"/content/cont.jpg\")\n",
        "cv2_imshow(image)\n",
        "grayscale=cv2.cvtColor(image,cv2.COLOR_BGR2GRAY)\n",
        "cv2_imshow(grayscale)\n",
        "canny=cv2.Canny(grayscale,100,150)\n",
        "contours,hierarchy=cv2.findContours(canny,cv2.RETR_EXTERNAL,cv2.CHAIN_APPROX_TC89_KCOS)\n",
        "h=len(contours)\n",
        "\n",
        "print(\"Length of contours=\",h)\n",
        "cv2_imshow(canny)\n",
        "cv2.drawContours(image,contours,-1,(0,255,0),3)\n",
        "cv2_imshow(image)\n",
        "for i,contour in enumerate(contours):\n",
        "  area=cv2.contourArea(contour)\n",
        "  perimeter=cv2.arcLength(contour,True)\n",
        "  print(\"Area of contour\",i,area)"
      ]
    }
  ],
  "metadata": {
    "colab": {
      "provenance": []
    },
    "kernelspec": {
      "display_name": "Python 3",
      "name": "python3"
    },
    "language_info": {
      "name": "python"
    }
  },
  "nbformat": 4,
  "nbformat_minor": 0
}